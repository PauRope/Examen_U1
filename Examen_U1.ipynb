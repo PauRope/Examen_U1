{
  "nbformat": 4,
  "nbformat_minor": 0,
  "metadata": {
    "colab": {
      "provenance": [],
      "authorship_tag": "ABX9TyNTz2ARfGDjAdUSFZagzxN7",
      "include_colab_link": true
    },
    "kernelspec": {
      "name": "python3",
      "display_name": "Python 3"
    },
    "language_info": {
      "name": "python"
    }
  },
  "cells": [
    {
      "cell_type": "markdown",
      "metadata": {
        "id": "view-in-github",
        "colab_type": "text"
      },
      "source": [
        "<a href=\"https://colab.research.google.com/github/PauRope/Examen_U1/blob/main/Examen_U1.ipynb\" target=\"_parent\"><img src=\"https://colab.research.google.com/assets/colab-badge.svg\" alt=\"Open In Colab\"/></a>"
      ]
    },
    {
      "cell_type": "markdown",
      "source": [
        "Ejercicio 1. **¿Es un numero primo?.**"
      ],
      "metadata": {
        "id": "Pln65l1kllKo"
      }
    },
    {
      "cell_type": "code",
      "execution_count": null,
      "metadata": {
        "colab": {
          "base_uri": "https://localhost:8080/"
        },
        "id": "8a5pGiQgiQtg",
        "outputId": "c50a4644-11eb-44d6-9ea4-2e7c88893527"
      },
      "outputs": [
        {
          "output_type": "stream",
          "name": "stdout",
          "text": [
            "Ingresa un número: 12\n",
            "12 no es un número primo\n"
          ]
        }
      ],
      "source": [
        "def es_primo(numero):\n",
        "    if numero > 1:\n",
        "        for i in range(2, int(numero/2)+1):\n",
        "            if (numero % i) == 0:\n",
        "                return False\n",
        "        return True\n",
        "    else:\n",
        "        return False\n",
        "\n",
        "try:\n",
        "    numero = int(input(\"Ingresa un número: \"))\n",
        "    if es_primo(numero):\n",
        "        print(numero, \"es un número primo\")\n",
        "    else:\n",
        "        print(numero, \"no es un número primo\")\n",
        "except ValueError:\n",
        "    print(\"Ingresa otro número.\")"
      ]
    },
    {
      "cell_type": "markdown",
      "source": [
        "Ejercicio 2. **¿El siguiente es primo?.**"
      ],
      "metadata": {
        "id": "Ku3IANR0rqGw"
      }
    },
    {
      "cell_type": "code",
      "source": [
        "def es_primo(numero):\n",
        "    if numero < 2:\n",
        "        return False\n",
        "    for i in range(2, int(numero**0.5) + 1):\n",
        "        if numero % i == 0:\n",
        "            return False\n",
        "    return True\n",
        "\n",
        "def siguiente_numero_primo(numero):\n",
        "    if numero < 2:\n",
        "        return 2\n",
        "    prime = numero + 1\n",
        "    while True:\n",
        "        if es_primo(prime):\n",
        "            return prime\n",
        "        prime += 1\n",
        "\n",
        "# Solicita al usuario ingresar un número\n",
        "inserta_numero = int(input(\"Ingrese un número: \"))\n",
        "\n",
        "sig_primo = siguiente_numero_primo(inserta_numero)\n",
        "print(f\"El siguiente número primo después de {inserta_numero} es {sig_primo}\")"
      ],
      "metadata": {
        "colab": {
          "base_uri": "https://localhost:8080/"
        },
        "id": "SU10-NV9vVBu",
        "outputId": "adcd2fa9-249b-47e7-b31e-1178bd2a4806"
      },
      "execution_count": null,
      "outputs": [
        {
          "output_type": "stream",
          "name": "stdout",
          "text": [
            "Ingrese un número: 14\n",
            "El siguiente número primo después de 14 es 17\n"
          ]
        }
      ]
    },
    {
      "cell_type": "markdown",
      "source": [
        "Ejercicio 3. **La mediana de 3 valores.**"
      ],
      "metadata": {
        "id": "oSwxkS6kJhMR"
      }
    },
    {
      "cell_type": "code",
      "source": [
        "class Calcular_Mediana_3:\n",
        "    @staticmethod\n",
        "    def Calcular_Mediana_3(num1, num2, num3):\n",
        "        # Pondremos los 3 números\n",
        "        numeros3 = [num1, num2, num3]\n",
        "        # Se ordenan en forma de lista\n",
        "        numeros3.sort()\n",
        "        # Se encuentra el número medio\n",
        "        mediana = numeros3[1]\n",
        "        return mediana\n",
        "\n",
        "# Iniciamos con if tomando las variables utilizadas\n",
        "if __name__ == \"__main__\":\n",
        "    try:\n",
        "        # Se ingresan los 3 números de los que se desea conocer la media\n",
        "        num1 = float(input(\"Ingresa el primer número: \"))\n",
        "        num2 = float(input(\"Ingresa el segundo número: \"))\n",
        "        num3 = float(input(\"Ingresa el tercer número: \"))\n",
        "\n",
        "        # Se hace el cálculo y procede a dictar la mediana de los 3 números.\n",
        "        mediana = Calcular_Mediana_3.Calcular_Mediana_3(num1, num2, num3)\n",
        "        print(f\"La mediana de los 3 números es: {mediana}\")\n",
        "\n",
        "    except ValueError:\n",
        "        print(\"Error: Ingresa nuevos valores.\")"
      ],
      "metadata": {
        "colab": {
          "base_uri": "https://localhost:8080/"
        },
        "id": "HbZpxeUcQyW4",
        "outputId": "1aae5160-6ead-4c2e-e53f-74856b4cc044"
      },
      "execution_count": null,
      "outputs": [
        {
          "output_type": "stream",
          "name": "stdout",
          "text": [
            "Ingresa el primer número: 23\n",
            "Ingresa el segundo número: 45\n",
            "Ingresa el tercer número: 98\n",
            "La mediana de los 3 números es: 45.0\n"
          ]
        }
      ]
    },
    {
      "cell_type": "markdown",
      "source": [
        "Ejercicio 4. **Contraseña random (aleatoria).**"
      ],
      "metadata": {
        "id": "G8InvSxvNqOq"
      }
    },
    {
      "cell_type": "code",
      "source": [
        "import random\n",
        "import string\n",
        "\n",
        "class Contraseña_Random: #creamos clase\n",
        "    @staticmethod\n",
        "    def genera_contra():\n",
        "        # Longitud entre 7 y 10 caracteres\n",
        "        largo_contra = random.randint(7, 10)\n",
        "\n",
        "        # Genera contraseña aleatoria\n",
        "        contraseña = ''.join(random.choice(string.printable[33:126]) for _ in range(largo_contra))\n",
        "\n",
        "        return contraseña\n",
        "\n",
        "if __name__ == \"__main__\":\n",
        "    # Genera una contraseña aleatoria\n",
        "    genera_contra = Contraseña_Random.genera_contra()\n",
        "\n",
        "    # Muestra la contraseña generada\n",
        "    print(\"La contraseña random generada es:\", genera_contra)"
      ],
      "metadata": {
        "colab": {
          "base_uri": "https://localhost:8080/"
        },
        "id": "EAjnTAWrOFrd",
        "outputId": "4155314e-9f5c-4edb-d5ef-7d6dcda1cc64"
      },
      "execution_count": null,
      "outputs": [
        {
          "output_type": "stream",
          "name": "stdout",
          "text": [
            "La contraseña random generada es: `Q\"CU# \n"
          ]
        }
      ]
    },
    {
      "cell_type": "markdown",
      "source": [
        "Ejercicio 5. **Calcula la hipotenusa.**"
      ],
      "metadata": {
        "id": "TzJfHVRRSfz-"
      }
    },
    {
      "cell_type": "code",
      "source": [
        "class Hipotenusa_Triangulo: #definimos la clase y su funacion a utilizar\n",
        "    def __init__(self, lado1, lado2): #self lo definiremos como el primer parametro a usar en instancia.\n",
        "        self.lado1 = lado1 #Aqui ya tenemos parametro 1 y 2\n",
        "        self.lado2 = lado2\n",
        "\n",
        "    def calcular_hipotenusa(self):\n",
        "        Hip = (self.lado1**2 + self.lado2**2)**0.5 #formula para sacar hipotenuss mediante pitagoras\n",
        "        return Hip\n",
        "\n",
        "# Programa principal\n",
        "if __name__ == \"__main__\":\n",
        "    lado1 = float(input(\"Ingresa la medida de lado 1: \"))\n",
        "    lado2 = float(input(\"Ingresa la medida de lado 2: \"))\n",
        "\n",
        "    triangulo =  Hipotenusa_Triangulo(lado1, lado2)\n",
        "    hip = triangulo.calcular_hipotenusa()\n",
        "\n",
        "    print(f\"La longitud de la hipotenusa es: {hip}\")"
      ],
      "metadata": {
        "colab": {
          "base_uri": "https://localhost:8080/"
        },
        "id": "PMKRc3FcSvb-",
        "outputId": "d25888c3-0d69-4879-bbf4-ca41782a9334"
      },
      "execution_count": null,
      "outputs": [
        {
          "output_type": "stream",
          "name": "stdout",
          "text": [
            "Ingresa la medida de lado 1: 12\n",
            "Ingresa la medida de lado 2: 24\n",
            "La longitud de la hipotenusa es: 26.832815729997478\n"
          ]
        }
      ]
    }
  ]
}